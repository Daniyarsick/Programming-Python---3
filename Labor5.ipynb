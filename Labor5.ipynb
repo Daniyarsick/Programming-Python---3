{
 "cells": [
  {
   "cell_type": "markdown",
   "metadata": {},
   "source": [
    "### Лабораторна работа No5\n",
    "##### Аннануров Даниил Петрович ИВТ 1.2\n"
   ]
  },
  {
   "cell_type": "markdown",
   "metadata": {},
   "source": [
    "1.1 Создайте свой класс-итератор class RandomNumberIterator, который, в ходе итерирования по такому итератору, генерирует случайные числа в количестве и в диапазоне, которые передаются в конструктор в виде списка параметров."
   ]
  },
  {
   "cell_type": "code",
   "execution_count": 9,
   "metadata": {},
   "outputs": [
    {
     "name": "stdout",
     "output_type": "stream",
     "text": [
      "84\n",
      "94\n",
      "13\n",
      "41\n",
      "51\n"
     ]
    }
   ],
   "source": [
    "import random\n",
    "\n",
    "class RandomNumberIterator:\n",
    "    def __init__(self, counter, start, end):\n",
    "        self.counter = counter\n",
    "        self.start = start\n",
    "        self.end = end\n",
    "\n",
    "    def __iter__(self):\n",
    "        self.current_count = 0\n",
    "        return self\n",
    "\n",
    "    def __next__(self):\n",
    "        if self.current_count < self.counter:\n",
    "            self.current_count += 1\n",
    "            return random.randint(self.start, self.end) \n",
    "        else:\n",
    "            raise StopIteration\n",
    "\n",
    "\n",
    "iterator = RandomNumberIterator(5, 1, 100)\n",
    "for number in iterator:\n",
    "    print(number)\n"
   ]
  },
  {
   "cell_type": "markdown",
   "metadata": {},
   "source": [
    "1.2 Решите задачу 1.1 уже с использованием генераторной функции, использующей ключевое слово yield. В качестве аргументов она должна\n",
    "принимать количество элементов и диапазон.\n"
   ]
  },
  {
   "cell_type": "code",
   "execution_count": 20,
   "metadata": {},
   "outputs": [
    {
     "name": "stdout",
     "output_type": "stream",
     "text": [
      "69\n",
      "43\n",
      "75\n",
      "74\n",
      "79\n"
     ]
    }
   ],
   "source": [
    "import random\n",
    "\n",
    "def random_number_generator(counter, min, max):\n",
    "    for i in range(counter):\n",
    "        yield random.randint(min, max)\n",
    "\n",
    "generator = random_number_generator(5, 1, 100)\n",
    "for number in generator:\n",
    "    print(number)"
   ]
  },
  {
   "cell_type": "markdown",
   "metadata": {},
   "source": [
    "1.3 Сделайте две функции-генератора. Первый генератор создаёт ряд Фибоначчи, а второй генератор добавляет значение 10 к каждому числу.\n",
    "Вызовете эти генераторы так, чтобы сгенерировать некоторое количество чисел Фибоначчи с добавлением числа 10 к каждому числу"
   ]
  },
  {
   "cell_type": "code",
   "execution_count": 21,
   "metadata": {},
   "outputs": [
    {
     "name": "stdout",
     "output_type": "stream",
     "text": [
      "10\n",
      "11\n",
      "11\n",
      "12\n",
      "13\n",
      "15\n",
      "18\n",
      "23\n",
      "31\n",
      "44\n"
     ]
    }
   ],
   "source": [
    "def fibonacci(n):\n",
    "  a, b = 0, 1\n",
    "  for i in range(n):\n",
    "    yield a\n",
    "    a, b = b, a + b\n",
    "\n",
    "def ten_fibonacci(generator):\n",
    "    for num in generator:\n",
    "        yield num + 10\n",
    "\n",
    "fibonacci = fibonacci(10) \n",
    "fibonacci_with_ten = ten_fibonacci(fibonacci)  \n",
    "\n",
    "for number in fibonacci_with_ten:\n",
    "    print(number)"
   ]
  },
  {
   "cell_type": "markdown",
   "metadata": {},
   "source": [
    "1.4 Напишите программу, на вход к которой подается список стран и городов для каждой страны. Затем по названиям городов из ещё одного\n",
    "списка выводится в какой стране расположен каждый город."
   ]
  },
  {
   "cell_type": "code",
   "execution_count": 2,
   "metadata": {},
   "outputs": [
    {
     "name": "stdout",
     "output_type": "stream",
     "text": [
      "\n",
      "\n",
      "Город Lion находится в стране France\n",
      "Город Moscow находится в стране Russia\n",
      "Город Paris находится в стране France\n"
     ]
    }
   ],
   "source": [
    "dict_country_city = {}\n",
    "\n",
    "number_of_countries = int(input('Введите количество стран:\\n'))\n",
    "for i in range(number_of_countries):\n",
    "    country, *cities = input(\"Введите: Страна + Пробел + Города:\\n\").split()\n",
    "\n",
    "    for city in cities:\n",
    "        dict_country_city[city] = country\n",
    "\n",
    "print('\\n')\n",
    "num_cities = int(input(\"Введите количество городов:\\n\"))\n",
    "for _ in range(num_cities):\n",
    "    city = input()\n",
    "    country = dict_country_city.get(city)\n",
    "    print(\"Город\", city, \"находится в стране\", country)"
   ]
  },
  {
   "cell_type": "markdown",
   "metadata": {},
   "source": [
    "2.1 Напишите класс менеджера контекста Timer, который умеет считать время в секундах, затраченное на некоторые вычисления внутри соответствующего блока with с помощью функции perf_counter модуля time. Используйте этот менеджер контекста для определения времени на вычисления достаточно большого количества чисел Фибоначчи (например миллиона) в цикле с помощью отдельной функциигенератора"
   ]
  },
  {
   "cell_type": "code",
   "execution_count": 3,
   "metadata": {},
   "outputs": [
    {
     "name": "stdout",
     "output_type": "stream",
     "text": [
      "инициализация\n",
      "открытие контекста\n",
      "выход из контекста. время выполнения: 12.176s\n"
     ]
    }
   ],
   "source": [
    "class Timer():\n",
    "  import time\n",
    "\n",
    "  def __init__(self):\n",
    "    \n",
    "    print('инициализация')\n",
    "\n",
    "  def __enter__(self):\n",
    "      \n",
    "    self._starttime = self.time.perf_counter()\n",
    "    print('открытие контекста')\n",
    "\n",
    "  def __exit__(self, *args):\n",
    "    \n",
    "    self._endtime = self.time.perf_counter()\n",
    "    self._time = self._endtime - self._starttime\n",
    "    print(f'выход из контекста. время выполнения: {self._time:.3f}s')\n",
    "\n",
    "max_counter_val = 10000000\n",
    "\n",
    "def fibonacci(n):\n",
    "  a, b = 0, 1\n",
    "  for i in range(n):\n",
    "    yield a\n",
    "    a, b = b, a + b\n",
    "    \n",
    "with Timer() as t:\n",
    "  for i in fibonacci(10**6):\n",
    "    pass\n"
   ]
  },
  {
   "cell_type": "markdown",
   "metadata": {},
   "source": [
    "2.2 Напишите класс менеджера контекста BatchCalculatorContextManager, для вашего проекта калькулятора из предыдущих лабораторных работ. Этот менеджер контекста должен уметь открывать и закрывать 1 текстовый файл, в каждой строчке которого записана пара чисел в сочетании с арифметической операцией над ними в виде простого арифметического выражения без пробелов. В сочетании с дополнительной функцией генератором и вашим менеджером контекста прочитайте все строчки текстового файла и вызовите нужное число раз функцию calculate(...) вашего калькулятора, чтобы распечатать все результаты на экране."
   ]
  },
  {
   "cell_type": "code",
   "execution_count": 4,
   "metadata": {},
   "outputs": [
    {
     "name": "stdout",
     "output_type": "stream",
     "text": [
      "2\n",
      "4\n",
      "1.0\n",
      "6\n"
     ]
    }
   ],
   "source": [
    "class BatchCalculatorContextManager:\n",
    "    def __init__(self, filename):\n",
    "        self.filename = filename\n",
    "        self.file = None\n",
    "\n",
    "    def __enter__(self):\n",
    "        self.file = open(self.filename, 'r')\n",
    "        return self.file\n",
    "    \n",
    "    def __exit__(self, exc_type, exc_val, exc_tb):\n",
    "        if self.file:\n",
    "            self.file.close()\n",
    "\n",
    "def calculator(number1, number2, operator):\n",
    "    \n",
    "    if operator == \"+\":\n",
    "        result = number1 + number2\n",
    "    elif operator == \"-\":\n",
    "        result = number1 - number2\n",
    "    elif operator == \"*\":\n",
    "        result = number1 * number2\n",
    "    elif operator == \"/\":\n",
    "        if number2 != 0:\n",
    "            result = number1 / number2\n",
    "        else:\n",
    "            print(\"Ошибка: деление на ноль\")\n",
    "            return None\n",
    "    else:\n",
    "        print(\"Ошибка: Некоректная операция\")\n",
    "        return None\n",
    "\n",
    "    return result\n",
    "\n",
    "filename = \"C:\\\\Users\\\\Даниил\\\\Desktop\\\\ProgrammingPython\\\\cody.txt\"\n",
    "with BatchCalculatorContextManager(filename) as file:\n",
    "    for line in file:\n",
    "        try:\n",
    "            number1, operator, number2 = line[0], line[1], line[2]\n",
    "            result = calculator(int(number1), int(number2), operator)\n",
    "            print(result)\n",
    "        except ValueError:\n",
    "            print(\"Ошибка: Некоректный формат строки\")"
   ]
  },
  {
   "cell_type": "markdown",
   "metadata": {},
   "source": [
    "2.3 Установите локально на свой компьютер объектную базу данных MongoDB.\n",
    "Установите с помощью менеджера пакетов pip или conda, в зависимости от того чем вы пользуетесь, пакет pymongo для подключения к\n",
    "базам данных MongoDB. Например команда для pip:\n",
    "pip install pymongo. С помощью инструмента MongoDB Shell создайте нового пользователя с правами админа, к примеру. Введите в\n",
    "командной строке mongosh без аргументов и уже в командной строке\n",
    "внутри MongoDB Shell введите:\n",
    "db.createUser({\n",
    "user: \"myUserAdmin\",\n",
    "pwd: \"abc123\",\n",
    "roles: [\n",
    "{ role: \"userAdminAnyDatabase\", db: \"admin\" },\n",
    "\"readWriteAnyDatabase\"\n",
    "]\n",
    "})\n",
    "Затем выйдите из MongoDB Shell (Введите exit или нажмите CtrlD). Перезайдите снова в MongoDB Shell с помощью команды mongosh\n",
    "-u myUserAdmin в командной строке и введя пароль abc123. Тем самым вы залогинетесь в базу MongoDB под новой учётной записью.\n",
    "Создайте пустую базу данных myshinynewdb с помощью команды use\n",
    "myshinynewdb. Добавьте коллекцию user в эту базу данных с одной\n",
    "единственной записью: db.user.insert({name: \"Ada Lovelace\", age:\n",
    "205}). Коллекция будет создана автоматически. Напишите класс менеджера контекста для управляемого подключения к MondoDB и отключения от неё. Внутри блока with с помощью вызова метода\n",
    "user_collection.find({'age': 205}) найдите вашу запись об\n",
    "\"Ada␣Lovelace\" и распечатайте её в терминале.\n"
   ]
  },
  {
   "cell_type": "code",
   "execution_count": 2,
   "metadata": {},
   "outputs": [
    {
     "name": "stdout",
     "output_type": "stream",
     "text": [
      "{'_id': ObjectId('6573102ca152a366574dfc93'), 'name': 'Ada Lovelace', 'age': 205}\n"
     ]
    }
   ],
   "source": [
    "from pymongo import MongoClient\n",
    "\n",
    "class MongoDnConnectionContextManager(object):\n",
    "    def __init__ (self, host = 'localhost', port = 27017, username = 'admin', password = 'admin'):\n",
    "        self.host = host\n",
    "        self.port = port\n",
    "        self.username = username\n",
    "        self.password = password\n",
    "        self.connection = None\n",
    "\n",
    "    def __enter__(self):\n",
    "        self.connection = MongoClient(self.host, self.port, username=self.username,\n",
    "                                      password=self.password, authMechanism='SCRAM-SHA-1')\n",
    "        return self\n",
    "\n",
    "    def __exit__(self, exc_type, exc_val, exc_tb):\n",
    "        self.connection.close()\n",
    "\n",
    "with MongoDnConnectionContextManager(username='myUserAdmin', password='abc123') as mongo:\n",
    "    db = mongo.connection['myshinynewdb']\n",
    "    user_collection = db['user']\n",
    "    user = user_collection.find({'age': 205})[0]\n",
    "    print(user)"
   ]
  }
 ],
 "metadata": {
  "kernelspec": {
   "display_name": "Python 3",
   "language": "python",
   "name": "python3"
  },
  "language_info": {
   "codemirror_mode": {
    "name": "ipython",
    "version": 3
   },
   "file_extension": ".py",
   "mimetype": "text/x-python",
   "name": "python",
   "nbconvert_exporter": "python",
   "pygments_lexer": "ipython3",
   "version": "3.11.6"
  }
 },
 "nbformat": 4,
 "nbformat_minor": 2
}
